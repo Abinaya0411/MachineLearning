{
 "cells": [
  {
   "cell_type": "code",
   "execution_count": 1,
   "id": "cb824bdd",
   "metadata": {},
   "outputs": [],
   "source": [
    "import pandas as pd\n",
    "from sklearn.model_selection import train_test_split\n",
    "import time\n",
    "import numpy as np\n",
    "from sklearn.preprocessing import StandardScaler\n",
    "from sklearn.feature_selection import RFE\n",
    "from sklearn.linear_model import LogisticRegression\n",
    "import pickle\n",
    "import matplotlib.pyplot as plt\n",
    "from sklearn.metrics import r2_score\n",
    "from sklearn.svm import SVR\n",
    "from sklearn.tree import DecisionTreeRegressor\n",
    "from sklearn.ensemble import RandomForestRegressor"
   ]
  },
  {
   "cell_type": "code",
   "execution_count": 2,
   "id": "aa5cf01e",
   "metadata": {},
   "outputs": [],
   "source": [
    "def rfeFeature(indep_X,dep_Y,n):\n",
    "    rfeList=[]\n",
    "    \n",
    "    RF = RandomForestRegressor(random_state=0)\n",
    "    DT = DecisionTreeRegressor(random_state=0)\n",
    "    svr_model= SVR(kernel=\"linear\",C=3000)\n",
    "    rfemodellist=[svr_model,RF,DT]\n",
    "    for i in rfemodellist:\n",
    "        print(i)\n",
    "        log_rfe = RFE(i,n)\n",
    "        log_fit = log_rfe.fit(indep_X,dep_Y)\n",
    "        log_rfe_feature = log_fit.transform(indep_X)\n",
    "        rfeList.append(log_rfe_feature)\n",
    "        return rfeList"
   ]
  },
  {
   "cell_type": "code",
   "execution_count": 3,
   "id": "8f0f09cf",
   "metadata": {},
   "outputs": [],
   "source": [
    "def split_scaler(indep_X,dep_Y):\n",
    "    X_train,X_test,y_train,y_test=train_test_split(indep_X, dep_Y, test_size=0.25, random_state=0)\n",
    "    sc=StandardScaler()\n",
    "    X_train=sc.fit_transform(X_train)\n",
    "    X_test=sc.transform(X_test)\n",
    "    return X_train,X_test,y_train,y_test"
   ]
  },
  {
   "cell_type": "code",
   "execution_count": 4,
   "id": "bea63b01",
   "metadata": {},
   "outputs": [],
   "source": [
    "def rscore_prediction(regressor,X_test,y_test):\n",
    "    y_pred=regressor.predict(X_test)\n",
    "    from sklearn.metrics import r2_score\n",
    "    r_score=r2_score(y_test,y_pred)\n",
    "    return regressor,r_score\n",
    "def svm_linear(X_train,y_train,X_test,y_test):\n",
    "    from sklearn.svm import SVR\n",
    "    regressor = SVR(kernel=\"linear\",C=3000)\n",
    "    regressor.fit(X_train,y_train)\n",
    "    regressor,r_score= rscore_prediction(regressor,X_test,y_test)\n",
    "    return regressor,r_score\n",
    "def Decision(X_train,y_train,X_test,y_test):\n",
    "    from sklearn.tree import DecisionTreeRegressor\n",
    "    regressor = DecisionTreeRegressor(random_state=0)\n",
    "    regressor.fit(X_train,y_train)\n",
    "    regressor,r_score= rscore_prediction(regressor,X_test,y_test)\n",
    "    return regressor,r_score\n",
    "def random(X_train,y_train,X_test,y_test):\n",
    "    from sklearn.ensemble import RandomForestRegressor\n",
    "    regressor = RandomForestRegressor(random_state=0)\n",
    "    regressor.fit(X_train,y_train)\n",
    "    regressor,r_score= rscore_prediction(regressor,X_test,y_test)\n",
    "    return regressor,r_score"
   ]
  },
  {
   "cell_type": "code",
   "execution_count": 5,
   "id": "c2c1e416",
   "metadata": {},
   "outputs": [],
   "source": [
    "def rfe_regression(acclog,accsvml,accsvmnl,accknn,accnav,accdes,accrf):\n",
    "    data = { 'SVMl': accsvml, 'Decision': accdes, 'Random': accrf}\n",
    "    rfedataframe=pd.DataFrame(data, index=['SVR','Random','Decision Tree'])\n",
    "    return rfedataframe"
   ]
  },
  {
   "cell_type": "code",
   "execution_count": 6,
   "id": "13893ab7",
   "metadata": {},
   "outputs": [],
   "source": [
    "dataset1=pd.read_csv(\"prepkidney_data.csv\",index_col=None)\n",
    "df2=pd.get_dummies(dataset1,drop_first=True)"
   ]
  },
  {
   "cell_type": "code",
   "execution_count": 7,
   "id": "7bcdc70e",
   "metadata": {},
   "outputs": [],
   "source": [
    "indep_X=df2.drop(\"classification_ckd\\t\",1)\n",
    "dep_Y= df2['classification_ckd\\t']"
   ]
  },
  {
   "cell_type": "code",
   "execution_count": null,
   "id": "45a45a72",
   "metadata": {},
   "outputs": [
    {
     "name": "stdout",
     "output_type": "stream",
     "text": [
      "SVR(C=3000, cache_size=200, coef0=0.0, degree=3, epsilon=0.1,\n",
      "    gamma='auto_deprecated', kernel='linear', max_iter=-1, shrinking=True,\n",
      "    tol=0.001, verbose=False)\n"
     ]
    }
   ],
   "source": [
    "rfeList=rfeFeature(indep_X,dep_Y,2)\n",
    "\n",
    "\n",
    "accsvml=[]\n",
    "accdes=[]\n",
    "accrf=[]"
   ]
  },
  {
   "cell_type": "code",
   "execution_count": null,
   "id": "e7419f4b",
   "metadata": {},
   "outputs": [],
   "source": [
    "for i in rfeList:\n",
    "    X_train,X_test,y_train,y_test= split_scaler(i,dep_Y)\n",
    "    \n",
    "    regressor,r_score= svm_linear(X_train,y_train,X_test,y_test)\n",
    "    accsvml.append(r_score)\n",
    "    regressor,r_score= Decision(X_train,y_train,X_test,y_test)\n",
    "    accdes.append(r_score)\n",
    "    regressor,r_score= random(X_train,y_train,X_test,y_test)\n",
    "    accrf.append(r_score)\n",
    "\n",
    "    result= rfe_regression(accsvml,accdes,accrf)"
   ]
  }
 ],
 "metadata": {
  "kernelspec": {
   "display_name": "Python 3 (ipykernel)",
   "language": "python",
   "name": "python3"
  },
  "language_info": {
   "codemirror_mode": {
    "name": "ipython",
    "version": 3
   },
   "file_extension": ".py",
   "mimetype": "text/x-python",
   "name": "python",
   "nbconvert_exporter": "python",
   "pygments_lexer": "ipython3",
   "version": "3.7.6"
  }
 },
 "nbformat": 4,
 "nbformat_minor": 5
}

{
 "cells": [
  {
   "cell_type": "code",
   "execution_count": 1,
   "id": "6b7b9631",
   "metadata": {},
   "outputs": [],
   "source": [
    "import pandas as pd\n",
    "from sklearn.model_selection import train_test_split\n",
    "import time\n",
    "import numpy as np\n",
    "from sklearn.preprocessing import StandardScaler\n",
    "from sklearn.feature_selection import SelectKBest\n",
    "from sklearn.feature_selection import chi2\n",
    "from sklearn.linear_model import LogisticRegression\n",
    "import pickle\n",
    "import matplotlib.pyplot as plt"
   ]
  },
  {
   "cell_type": "code",
   "execution_count": 2,
   "id": "9634788e",
   "metadata": {},
   "outputs": [],
   "source": [
    "def selectkbest(indep_X,dep_Y,n):\n",
    "    test= SelectKBest(score_func=chi2,k=n)\n",
    "    fit1=test.fit(indep_X,dep_Y)\n",
    "    selectk_features= fit1.transform(indep_X)\n",
    "    return selectk_features"
   ]
  },
  {
   "cell_type": "code",
   "execution_count": 3,
   "id": "ff1e4f79",
   "metadata": {},
   "outputs": [],
   "source": [
    "def split_scaler(indep_X,dep_Y):\n",
    "    X_train,X_test,y_train,y_test=train_test_split(indep_X, dep_Y, test_size=0.25, random_state=0)\n",
    "    sc=StandardScaler()\n",
    "    X_train=sc.fit_transform(X_train)\n",
    "    X_test=sc.transform(X_test)\n",
    "    return X_train,X_test,y_train,y_test"
   ]
  },
  {
   "cell_type": "code",
   "execution_count": 5,
   "id": "545567f2",
   "metadata": {},
   "outputs": [],
   "source": [
    "def rscore_prediction(regressor,X_test,y_test):\n",
    "    y_pred=regressor.predict(X_test)\n",
    "    from sklearn.metrics import r2_score\n",
    "    r_score=r2_score(y_test,y_pred)\n",
    "    return regressor,r_score\n",
    "def svm_linear(X_train,y_train,X_test,y_test):\n",
    "    from sklearn.svm import SVR\n",
    "    regressor = SVR(kernel=\"linear\",C=3000)\n",
    "    regressor.fit(X_train,y_train)\n",
    "    regressor,r_score= rscore_prediction(regressor,X_test,y_test)\n",
    "    return regressor,r_score\n",
    "def svm_NL(X_train,y_train,X_test,y_test):\n",
    "    from sklearn.svm import SVR\n",
    "    regressor = SVR(C=100, epsilon=0.2)\n",
    "    regressor.fit(X_train,y_train)\n",
    "    regressor,r_score= rscore_prediction(regressor,X_test,y_test)\n",
    "    return regressor,r_score\n",
    "def Decision(X_train,y_train,X_test,y_test):\n",
    "    from sklearn.tree import DecisionTreeRegressor\n",
    "    regressor = DecisionTreeRegressor(random_state=0)\n",
    "    regressor.fit(X_train,y_train)\n",
    "    regressor,r_score= rscore_prediction(regressor,X_test,y_test)\n",
    "    return regressor,r_score\n",
    "def random(X_train,y_train,X_test,y_test):\n",
    "    from sklearn.ensemble import RandomForestRegressor\n",
    "    regressor = RandomForestRegressor(random_state=0)\n",
    "    regressor.fit(X_train,y_train)\n",
    "    regressor,r_score= rscore_prediction(regressor,X_test,y_test)\n",
    "    return regressor,r_score"
   ]
  },
  {
   "cell_type": "code",
   "execution_count": 6,
   "id": "41c21899",
   "metadata": {},
   "outputs": [],
   "source": [
    "def selectk_regression(accsvml,accsvmnl,accdes,accrf):\n",
    "    data = {'SVMl': accsvml, 'SVMnl': accsvmnl, 'Decision': accdes, 'Random': accrf}\n",
    "    dataframe=pd.DataFrame(data, index=['ChiSquare'])\n",
    "    return dataframe"
   ]
  },
  {
   "cell_type": "code",
   "execution_count": 7,
   "id": "08b8d2c2",
   "metadata": {},
   "outputs": [],
   "source": [
    "dataset1=pd.read_csv(\"prepkidney_data.csv\",index_col=None)\n"
   ]
  },
  {
   "cell_type": "code",
   "execution_count": 8,
   "id": "0aa34161",
   "metadata": {},
   "outputs": [],
   "source": [
    "df2=pd.get_dummies(dataset1,drop_first=True)"
   ]
  },
  {
   "cell_type": "code",
   "execution_count": 9,
   "id": "a5095181",
   "metadata": {},
   "outputs": [],
   "source": [
    "indep_X=df2.drop(\"classification_ckd\\t\",1)\n",
    "dep_Y= df2['classification_ckd\\t']"
   ]
  },
  {
   "cell_type": "code",
   "execution_count": 10,
   "id": "26775d08",
   "metadata": {},
   "outputs": [],
   "source": [
    "kbest= selectkbest(indep_X,dep_Y,2)\n",
    "\n",
    "accsvml=[]\n",
    "accsvmnl=[]\n",
    "accdes=[]\n",
    "accrf=[]"
   ]
  },
  {
   "cell_type": "code",
   "execution_count": 11,
   "id": "5f98328f",
   "metadata": {},
   "outputs": [
    {
     "name": "stderr",
     "output_type": "stream",
     "text": [
      "C:\\Users\\abina\\Anac\\envs\\aiml\\lib\\site-packages\\sklearn\\svm\\base.py:193: FutureWarning: The default value of gamma will change from 'auto' to 'scale' in version 0.22 to account better for unscaled features. Set gamma explicitly to 'auto' or 'scale' to avoid this warning.\n",
      "  \"avoid this warning.\", FutureWarning)\n",
      "C:\\Users\\abina\\Anac\\envs\\aiml\\lib\\site-packages\\sklearn\\ensemble\\forest.py:245: FutureWarning: The default value of n_estimators will change from 10 in version 0.20 to 100 in 0.22.\n",
      "  \"10 in version 0.20 to 100 in 0.22.\", FutureWarning)\n",
      "C:\\Users\\abina\\Anac\\envs\\aiml\\lib\\site-packages\\sklearn\\utils\\fixes.py:230: DeprecationWarning: distutils Version classes are deprecated. Use packaging.version instead.\n",
      "  if _joblib.__version__ >= LooseVersion('0.12'):\n",
      "C:\\Users\\abina\\Anac\\envs\\aiml\\lib\\site-packages\\sklearn\\utils\\fixes.py:230: DeprecationWarning: distutils Version classes are deprecated. Use packaging.version instead.\n",
      "  if _joblib.__version__ >= LooseVersion('0.12'):\n"
     ]
    }
   ],
   "source": [
    "X_train,X_test,y_train,y_test= split_scaler(kbest,dep_Y)\n",
    "\n",
    "\n",
    "regressor,r_score= svm_linear(X_train,y_train,X_test,y_test)\n",
    "accsvml.append(r_score)\n",
    "regressor,r_score= svm_NL(X_train,y_train,X_test,y_test)\n",
    "accsvmnl.append(r_score)\n",
    "regressor,r_score= Decision(X_train,y_train,X_test,y_test)\n",
    "accdes.append(r_score)\n",
    "regressor,r_score= random(X_train,y_train,X_test,y_test)\n",
    "accrf.append(r_score)\n",
    "\n",
    "result= selectk_regression(accsvml,accsvmnl,accdes,accrf)"
   ]
  },
  {
   "cell_type": "code",
   "execution_count": 12,
   "id": "0e19a7cd",
   "metadata": {},
   "outputs": [
    {
     "data": {
      "text/html": [
       "<div>\n",
       "<style scoped>\n",
       "    .dataframe tbody tr th:only-of-type {\n",
       "        vertical-align: middle;\n",
       "    }\n",
       "\n",
       "    .dataframe tbody tr th {\n",
       "        vertical-align: top;\n",
       "    }\n",
       "\n",
       "    .dataframe thead th {\n",
       "        text-align: right;\n",
       "    }\n",
       "</style>\n",
       "<table border=\"1\" class=\"dataframe\">\n",
       "  <thead>\n",
       "    <tr style=\"text-align: right;\">\n",
       "      <th></th>\n",
       "      <th>SVMl</th>\n",
       "      <th>SVMnl</th>\n",
       "      <th>Decision</th>\n",
       "      <th>Random</th>\n",
       "    </tr>\n",
       "  </thead>\n",
       "  <tbody>\n",
       "    <tr>\n",
       "      <th>ChiSquare</th>\n",
       "      <td>-0.820514</td>\n",
       "      <td>-3.644054</td>\n",
       "      <td>-0.010101</td>\n",
       "      <td>-0.020202</td>\n",
       "    </tr>\n",
       "  </tbody>\n",
       "</table>\n",
       "</div>"
      ],
      "text/plain": [
       "               SVMl     SVMnl  Decision    Random\n",
       "ChiSquare -0.820514 -3.644054 -0.010101 -0.020202"
      ]
     },
     "execution_count": 12,
     "metadata": {},
     "output_type": "execute_result"
    }
   ],
   "source": [
    "result"
   ]
  },
  {
   "cell_type": "code",
   "execution_count": null,
   "id": "3fbdeda0",
   "metadata": {},
   "outputs": [],
   "source": []
  }
 ],
 "metadata": {
  "kernelspec": {
   "display_name": "Python 3 (ipykernel)",
   "language": "python",
   "name": "python3"
  },
  "language_info": {
   "codemirror_mode": {
    "name": "ipython",
    "version": 3
   },
   "file_extension": ".py",
   "mimetype": "text/x-python",
   "name": "python",
   "nbconvert_exporter": "python",
   "pygments_lexer": "ipython3",
   "version": "3.7.6"
  }
 },
 "nbformat": 4,
 "nbformat_minor": 5
}

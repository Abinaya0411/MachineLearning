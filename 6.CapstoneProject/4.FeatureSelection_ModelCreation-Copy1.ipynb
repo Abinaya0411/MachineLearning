{
 "cells": [
  {
   "cell_type": "code",
   "execution_count": 1,
   "id": "1a13ac56",
   "metadata": {},
   "outputs": [],
   "source": [
    "#Feature Selection"
   ]
  },
  {
   "cell_type": "code",
   "execution_count": 2,
   "id": "7aeb10b6",
   "metadata": {},
   "outputs": [],
   "source": [
    "import pandas as pd\n",
    "from sklearn.model_selection import train_test_split\n",
    "import numpy as np\n",
    "from sklearn.preprocessing import StandardScaler\n",
    "from sklearn.feature_selection import SelectKBest\n",
    "from sklearn.feature_selection import RFE\n",
    "from sklearn.linear_model import LogisticRegression\n",
    "import pickle\n",
    "import matplotlib.pyplot as plt\n",
    "from sklearn.metrics import confusion_matrix\n",
    "from sklearn.metrics import accuracy_score\n",
    "from sklearn.metrics import classification_report\n",
    "from sklearn.svm import SVC\n",
    "from sklearn.naive_bayes import GaussianNB\n",
    "from sklearn.neighbors import KNeighborsClassifier\n",
    "from sklearn.tree import DecisionTreeClassifier\n",
    "from sklearn.ensemble import RandomForestClassifier"
   ]
  },
  {
   "cell_type": "code",
   "execution_count": 3,
   "id": "8c06d000",
   "metadata": {},
   "outputs": [],
   "source": [
    "dataset=pd.read_csv(\"prep_data.csv\",index_col=None)"
   ]
  },
  {
   "cell_type": "code",
   "execution_count": 4,
   "id": "0199b5fd",
   "metadata": {},
   "outputs": [
    {
     "data": {
      "text/html": [
       "<div>\n",
       "<style scoped>\n",
       "    .dataframe tbody tr th:only-of-type {\n",
       "        vertical-align: middle;\n",
       "    }\n",
       "\n",
       "    .dataframe tbody tr th {\n",
       "        vertical-align: top;\n",
       "    }\n",
       "\n",
       "    .dataframe thead th {\n",
       "        text-align: right;\n",
       "    }\n",
       "</style>\n",
       "<table border=\"1\" class=\"dataframe\">\n",
       "  <thead>\n",
       "    <tr style=\"text-align: right;\">\n",
       "      <th></th>\n",
       "      <th>employee_id</th>\n",
       "      <th>department</th>\n",
       "      <th>region_number</th>\n",
       "      <th>education</th>\n",
       "      <th>gender</th>\n",
       "      <th>recruitment_channel</th>\n",
       "      <th>no_of_trainings</th>\n",
       "      <th>age</th>\n",
       "      <th>previous_year_rating</th>\n",
       "      <th>length_of_service</th>\n",
       "      <th>KPIs_met_more_than_80</th>\n",
       "      <th>awards_won</th>\n",
       "      <th>avg_training_score</th>\n",
       "      <th>promotion</th>\n",
       "    </tr>\n",
       "  </thead>\n",
       "  <tbody>\n",
       "    <tr>\n",
       "      <th>0</th>\n",
       "      <td>8724</td>\n",
       "      <td>Technology</td>\n",
       "      <td>26</td>\n",
       "      <td>Bachelors</td>\n",
       "      <td>m</td>\n",
       "      <td>sourcing</td>\n",
       "      <td>1</td>\n",
       "      <td>24</td>\n",
       "      <td>0.0</td>\n",
       "      <td>1</td>\n",
       "      <td>1</td>\n",
       "      <td>0</td>\n",
       "      <td>77</td>\n",
       "      <td>No</td>\n",
       "    </tr>\n",
       "    <tr>\n",
       "      <th>1</th>\n",
       "      <td>74430</td>\n",
       "      <td>HR</td>\n",
       "      <td>4</td>\n",
       "      <td>Bachelors</td>\n",
       "      <td>f</td>\n",
       "      <td>other</td>\n",
       "      <td>1</td>\n",
       "      <td>31</td>\n",
       "      <td>3.0</td>\n",
       "      <td>5</td>\n",
       "      <td>0</td>\n",
       "      <td>0</td>\n",
       "      <td>51</td>\n",
       "      <td>No</td>\n",
       "    </tr>\n",
       "    <tr>\n",
       "      <th>2</th>\n",
       "      <td>72255</td>\n",
       "      <td>Sales &amp; Marketing</td>\n",
       "      <td>13</td>\n",
       "      <td>Bachelors</td>\n",
       "      <td>m</td>\n",
       "      <td>other</td>\n",
       "      <td>1</td>\n",
       "      <td>31</td>\n",
       "      <td>1.0</td>\n",
       "      <td>4</td>\n",
       "      <td>0</td>\n",
       "      <td>0</td>\n",
       "      <td>47</td>\n",
       "      <td>No</td>\n",
       "    </tr>\n",
       "    <tr>\n",
       "      <th>3</th>\n",
       "      <td>38562</td>\n",
       "      <td>Procurement</td>\n",
       "      <td>2</td>\n",
       "      <td>Bachelors</td>\n",
       "      <td>f</td>\n",
       "      <td>other</td>\n",
       "      <td>3</td>\n",
       "      <td>31</td>\n",
       "      <td>2.0</td>\n",
       "      <td>9</td>\n",
       "      <td>0</td>\n",
       "      <td>0</td>\n",
       "      <td>65</td>\n",
       "      <td>No</td>\n",
       "    </tr>\n",
       "    <tr>\n",
       "      <th>4</th>\n",
       "      <td>64486</td>\n",
       "      <td>Finance</td>\n",
       "      <td>29</td>\n",
       "      <td>Bachelors</td>\n",
       "      <td>m</td>\n",
       "      <td>sourcing</td>\n",
       "      <td>1</td>\n",
       "      <td>30</td>\n",
       "      <td>4.0</td>\n",
       "      <td>7</td>\n",
       "      <td>0</td>\n",
       "      <td>0</td>\n",
       "      <td>61</td>\n",
       "      <td>No</td>\n",
       "    </tr>\n",
       "    <tr>\n",
       "      <th>...</th>\n",
       "      <td>...</td>\n",
       "      <td>...</td>\n",
       "      <td>...</td>\n",
       "      <td>...</td>\n",
       "      <td>...</td>\n",
       "      <td>...</td>\n",
       "      <td>...</td>\n",
       "      <td>...</td>\n",
       "      <td>...</td>\n",
       "      <td>...</td>\n",
       "      <td>...</td>\n",
       "      <td>...</td>\n",
       "      <td>...</td>\n",
       "      <td>...</td>\n",
       "    </tr>\n",
       "    <tr>\n",
       "      <th>17409</th>\n",
       "      <td>54192</td>\n",
       "      <td>HR</td>\n",
       "      <td>22</td>\n",
       "      <td>Below Secondary</td>\n",
       "      <td>m</td>\n",
       "      <td>other</td>\n",
       "      <td>1</td>\n",
       "      <td>24</td>\n",
       "      <td>2.0</td>\n",
       "      <td>2</td>\n",
       "      <td>0</td>\n",
       "      <td>0</td>\n",
       "      <td>47</td>\n",
       "      <td>No</td>\n",
       "    </tr>\n",
       "    <tr>\n",
       "      <th>17410</th>\n",
       "      <td>57239</td>\n",
       "      <td>Sales &amp; Marketing</td>\n",
       "      <td>31</td>\n",
       "      <td>Bachelors</td>\n",
       "      <td>m</td>\n",
       "      <td>other</td>\n",
       "      <td>1</td>\n",
       "      <td>42</td>\n",
       "      <td>3.0</td>\n",
       "      <td>10</td>\n",
       "      <td>0</td>\n",
       "      <td>0</td>\n",
       "      <td>53</td>\n",
       "      <td>No</td>\n",
       "    </tr>\n",
       "    <tr>\n",
       "      <th>17411</th>\n",
       "      <td>73858</td>\n",
       "      <td>Sales &amp; Marketing</td>\n",
       "      <td>25</td>\n",
       "      <td>Bachelors</td>\n",
       "      <td>m</td>\n",
       "      <td>sourcing</td>\n",
       "      <td>2</td>\n",
       "      <td>28</td>\n",
       "      <td>2.0</td>\n",
       "      <td>5</td>\n",
       "      <td>0</td>\n",
       "      <td>0</td>\n",
       "      <td>45</td>\n",
       "      <td>No</td>\n",
       "    </tr>\n",
       "    <tr>\n",
       "      <th>17412</th>\n",
       "      <td>64573</td>\n",
       "      <td>Technology</td>\n",
       "      <td>7</td>\n",
       "      <td>Bachelors</td>\n",
       "      <td>f</td>\n",
       "      <td>referred</td>\n",
       "      <td>2</td>\n",
       "      <td>30</td>\n",
       "      <td>5.0</td>\n",
       "      <td>6</td>\n",
       "      <td>1</td>\n",
       "      <td>0</td>\n",
       "      <td>81</td>\n",
       "      <td>No</td>\n",
       "    </tr>\n",
       "    <tr>\n",
       "      <th>17413</th>\n",
       "      <td>49584</td>\n",
       "      <td>HR</td>\n",
       "      <td>7</td>\n",
       "      <td>Bachelors</td>\n",
       "      <td>m</td>\n",
       "      <td>other</td>\n",
       "      <td>1</td>\n",
       "      <td>33</td>\n",
       "      <td>1.0</td>\n",
       "      <td>9</td>\n",
       "      <td>0</td>\n",
       "      <td>0</td>\n",
       "      <td>51</td>\n",
       "      <td>No</td>\n",
       "    </tr>\n",
       "  </tbody>\n",
       "</table>\n",
       "<p>17414 rows × 14 columns</p>\n",
       "</div>"
      ],
      "text/plain": [
       "       employee_id         department  region_number        education gender  \\\n",
       "0             8724         Technology             26        Bachelors      m   \n",
       "1            74430                 HR              4        Bachelors      f   \n",
       "2            72255  Sales & Marketing             13        Bachelors      m   \n",
       "3            38562        Procurement              2        Bachelors      f   \n",
       "4            64486            Finance             29        Bachelors      m   \n",
       "...            ...                ...            ...              ...    ...   \n",
       "17409        54192                 HR             22  Below Secondary      m   \n",
       "17410        57239  Sales & Marketing             31        Bachelors      m   \n",
       "17411        73858  Sales & Marketing             25        Bachelors      m   \n",
       "17412        64573         Technology              7        Bachelors      f   \n",
       "17413        49584                 HR              7        Bachelors      m   \n",
       "\n",
       "      recruitment_channel  no_of_trainings  age  previous_year_rating  \\\n",
       "0                sourcing                1   24                   0.0   \n",
       "1                   other                1   31                   3.0   \n",
       "2                   other                1   31                   1.0   \n",
       "3                   other                3   31                   2.0   \n",
       "4                sourcing                1   30                   4.0   \n",
       "...                   ...              ...  ...                   ...   \n",
       "17409               other                1   24                   2.0   \n",
       "17410               other                1   42                   3.0   \n",
       "17411            sourcing                2   28                   2.0   \n",
       "17412            referred                2   30                   5.0   \n",
       "17413               other                1   33                   1.0   \n",
       "\n",
       "       length_of_service  KPIs_met_more_than_80  awards_won  \\\n",
       "0                      1                      1           0   \n",
       "1                      5                      0           0   \n",
       "2                      4                      0           0   \n",
       "3                      9                      0           0   \n",
       "4                      7                      0           0   \n",
       "...                  ...                    ...         ...   \n",
       "17409                  2                      0           0   \n",
       "17410                 10                      0           0   \n",
       "17411                  5                      0           0   \n",
       "17412                  6                      1           0   \n",
       "17413                  9                      0           0   \n",
       "\n",
       "       avg_training_score promotion  \n",
       "0                      77        No  \n",
       "1                      51        No  \n",
       "2                      47        No  \n",
       "3                      65        No  \n",
       "4                      61        No  \n",
       "...                   ...       ...  \n",
       "17409                  47        No  \n",
       "17410                  53        No  \n",
       "17411                  45        No  \n",
       "17412                  81        No  \n",
       "17413                  51        No  \n",
       "\n",
       "[17414 rows x 14 columns]"
      ]
     },
     "execution_count": 4,
     "metadata": {},
     "output_type": "execute_result"
    }
   ],
   "source": [
    "dataset"
   ]
  },
  {
   "cell_type": "code",
   "execution_count": 5,
   "id": "ee03a38b",
   "metadata": {},
   "outputs": [],
   "source": [
    "df2 = pd.get_dummies(dataset,drop_first=True)"
   ]
  },
  {
   "cell_type": "code",
   "execution_count": 6,
   "id": "4246840c",
   "metadata": {},
   "outputs": [
    {
     "data": {
      "text/html": [
       "<div>\n",
       "<style scoped>\n",
       "    .dataframe tbody tr th:only-of-type {\n",
       "        vertical-align: middle;\n",
       "    }\n",
       "\n",
       "    .dataframe tbody tr th {\n",
       "        vertical-align: top;\n",
       "    }\n",
       "\n",
       "    .dataframe thead th {\n",
       "        text-align: right;\n",
       "    }\n",
       "</style>\n",
       "<table border=\"1\" class=\"dataframe\">\n",
       "  <thead>\n",
       "    <tr style=\"text-align: right;\">\n",
       "      <th></th>\n",
       "      <th>employee_id</th>\n",
       "      <th>region_number</th>\n",
       "      <th>no_of_trainings</th>\n",
       "      <th>age</th>\n",
       "      <th>previous_year_rating</th>\n",
       "      <th>length_of_service</th>\n",
       "      <th>KPIs_met_more_than_80</th>\n",
       "      <th>awards_won</th>\n",
       "      <th>avg_training_score</th>\n",
       "      <th>department_Finance</th>\n",
       "      <th>...</th>\n",
       "      <th>department_R&amp;D</th>\n",
       "      <th>department_Sales &amp; Marketing</th>\n",
       "      <th>department_Technology</th>\n",
       "      <th>education_Below Secondary</th>\n",
       "      <th>education_Masters &amp; above</th>\n",
       "      <th>education_Unknown</th>\n",
       "      <th>gender_m</th>\n",
       "      <th>recruitment_channel_referred</th>\n",
       "      <th>recruitment_channel_sourcing</th>\n",
       "      <th>promotion_Yes</th>\n",
       "    </tr>\n",
       "  </thead>\n",
       "  <tbody>\n",
       "    <tr>\n",
       "      <th>0</th>\n",
       "      <td>8724</td>\n",
       "      <td>26</td>\n",
       "      <td>1</td>\n",
       "      <td>24</td>\n",
       "      <td>0.0</td>\n",
       "      <td>1</td>\n",
       "      <td>1</td>\n",
       "      <td>0</td>\n",
       "      <td>77</td>\n",
       "      <td>0</td>\n",
       "      <td>...</td>\n",
       "      <td>0</td>\n",
       "      <td>0</td>\n",
       "      <td>1</td>\n",
       "      <td>0</td>\n",
       "      <td>0</td>\n",
       "      <td>0</td>\n",
       "      <td>1</td>\n",
       "      <td>0</td>\n",
       "      <td>1</td>\n",
       "      <td>0</td>\n",
       "    </tr>\n",
       "    <tr>\n",
       "      <th>1</th>\n",
       "      <td>74430</td>\n",
       "      <td>4</td>\n",
       "      <td>1</td>\n",
       "      <td>31</td>\n",
       "      <td>3.0</td>\n",
       "      <td>5</td>\n",
       "      <td>0</td>\n",
       "      <td>0</td>\n",
       "      <td>51</td>\n",
       "      <td>0</td>\n",
       "      <td>...</td>\n",
       "      <td>0</td>\n",
       "      <td>0</td>\n",
       "      <td>0</td>\n",
       "      <td>0</td>\n",
       "      <td>0</td>\n",
       "      <td>0</td>\n",
       "      <td>0</td>\n",
       "      <td>0</td>\n",
       "      <td>0</td>\n",
       "      <td>0</td>\n",
       "    </tr>\n",
       "    <tr>\n",
       "      <th>2</th>\n",
       "      <td>72255</td>\n",
       "      <td>13</td>\n",
       "      <td>1</td>\n",
       "      <td>31</td>\n",
       "      <td>1.0</td>\n",
       "      <td>4</td>\n",
       "      <td>0</td>\n",
       "      <td>0</td>\n",
       "      <td>47</td>\n",
       "      <td>0</td>\n",
       "      <td>...</td>\n",
       "      <td>0</td>\n",
       "      <td>1</td>\n",
       "      <td>0</td>\n",
       "      <td>0</td>\n",
       "      <td>0</td>\n",
       "      <td>0</td>\n",
       "      <td>1</td>\n",
       "      <td>0</td>\n",
       "      <td>0</td>\n",
       "      <td>0</td>\n",
       "    </tr>\n",
       "    <tr>\n",
       "      <th>3</th>\n",
       "      <td>38562</td>\n",
       "      <td>2</td>\n",
       "      <td>3</td>\n",
       "      <td>31</td>\n",
       "      <td>2.0</td>\n",
       "      <td>9</td>\n",
       "      <td>0</td>\n",
       "      <td>0</td>\n",
       "      <td>65</td>\n",
       "      <td>0</td>\n",
       "      <td>...</td>\n",
       "      <td>0</td>\n",
       "      <td>0</td>\n",
       "      <td>0</td>\n",
       "      <td>0</td>\n",
       "      <td>0</td>\n",
       "      <td>0</td>\n",
       "      <td>0</td>\n",
       "      <td>0</td>\n",
       "      <td>0</td>\n",
       "      <td>0</td>\n",
       "    </tr>\n",
       "    <tr>\n",
       "      <th>4</th>\n",
       "      <td>64486</td>\n",
       "      <td>29</td>\n",
       "      <td>1</td>\n",
       "      <td>30</td>\n",
       "      <td>4.0</td>\n",
       "      <td>7</td>\n",
       "      <td>0</td>\n",
       "      <td>0</td>\n",
       "      <td>61</td>\n",
       "      <td>1</td>\n",
       "      <td>...</td>\n",
       "      <td>0</td>\n",
       "      <td>0</td>\n",
       "      <td>0</td>\n",
       "      <td>0</td>\n",
       "      <td>0</td>\n",
       "      <td>0</td>\n",
       "      <td>1</td>\n",
       "      <td>0</td>\n",
       "      <td>1</td>\n",
       "      <td>0</td>\n",
       "    </tr>\n",
       "    <tr>\n",
       "      <th>...</th>\n",
       "      <td>...</td>\n",
       "      <td>...</td>\n",
       "      <td>...</td>\n",
       "      <td>...</td>\n",
       "      <td>...</td>\n",
       "      <td>...</td>\n",
       "      <td>...</td>\n",
       "      <td>...</td>\n",
       "      <td>...</td>\n",
       "      <td>...</td>\n",
       "      <td>...</td>\n",
       "      <td>...</td>\n",
       "      <td>...</td>\n",
       "      <td>...</td>\n",
       "      <td>...</td>\n",
       "      <td>...</td>\n",
       "      <td>...</td>\n",
       "      <td>...</td>\n",
       "      <td>...</td>\n",
       "      <td>...</td>\n",
       "      <td>...</td>\n",
       "    </tr>\n",
       "    <tr>\n",
       "      <th>17409</th>\n",
       "      <td>54192</td>\n",
       "      <td>22</td>\n",
       "      <td>1</td>\n",
       "      <td>24</td>\n",
       "      <td>2.0</td>\n",
       "      <td>2</td>\n",
       "      <td>0</td>\n",
       "      <td>0</td>\n",
       "      <td>47</td>\n",
       "      <td>0</td>\n",
       "      <td>...</td>\n",
       "      <td>0</td>\n",
       "      <td>0</td>\n",
       "      <td>0</td>\n",
       "      <td>1</td>\n",
       "      <td>0</td>\n",
       "      <td>0</td>\n",
       "      <td>1</td>\n",
       "      <td>0</td>\n",
       "      <td>0</td>\n",
       "      <td>0</td>\n",
       "    </tr>\n",
       "    <tr>\n",
       "      <th>17410</th>\n",
       "      <td>57239</td>\n",
       "      <td>31</td>\n",
       "      <td>1</td>\n",
       "      <td>42</td>\n",
       "      <td>3.0</td>\n",
       "      <td>10</td>\n",
       "      <td>0</td>\n",
       "      <td>0</td>\n",
       "      <td>53</td>\n",
       "      <td>0</td>\n",
       "      <td>...</td>\n",
       "      <td>0</td>\n",
       "      <td>1</td>\n",
       "      <td>0</td>\n",
       "      <td>0</td>\n",
       "      <td>0</td>\n",
       "      <td>0</td>\n",
       "      <td>1</td>\n",
       "      <td>0</td>\n",
       "      <td>0</td>\n",
       "      <td>0</td>\n",
       "    </tr>\n",
       "    <tr>\n",
       "      <th>17411</th>\n",
       "      <td>73858</td>\n",
       "      <td>25</td>\n",
       "      <td>2</td>\n",
       "      <td>28</td>\n",
       "      <td>2.0</td>\n",
       "      <td>5</td>\n",
       "      <td>0</td>\n",
       "      <td>0</td>\n",
       "      <td>45</td>\n",
       "      <td>0</td>\n",
       "      <td>...</td>\n",
       "      <td>0</td>\n",
       "      <td>1</td>\n",
       "      <td>0</td>\n",
       "      <td>0</td>\n",
       "      <td>0</td>\n",
       "      <td>0</td>\n",
       "      <td>1</td>\n",
       "      <td>0</td>\n",
       "      <td>1</td>\n",
       "      <td>0</td>\n",
       "    </tr>\n",
       "    <tr>\n",
       "      <th>17412</th>\n",
       "      <td>64573</td>\n",
       "      <td>7</td>\n",
       "      <td>2</td>\n",
       "      <td>30</td>\n",
       "      <td>5.0</td>\n",
       "      <td>6</td>\n",
       "      <td>1</td>\n",
       "      <td>0</td>\n",
       "      <td>81</td>\n",
       "      <td>0</td>\n",
       "      <td>...</td>\n",
       "      <td>0</td>\n",
       "      <td>0</td>\n",
       "      <td>1</td>\n",
       "      <td>0</td>\n",
       "      <td>0</td>\n",
       "      <td>0</td>\n",
       "      <td>0</td>\n",
       "      <td>1</td>\n",
       "      <td>0</td>\n",
       "      <td>0</td>\n",
       "    </tr>\n",
       "    <tr>\n",
       "      <th>17413</th>\n",
       "      <td>49584</td>\n",
       "      <td>7</td>\n",
       "      <td>1</td>\n",
       "      <td>33</td>\n",
       "      <td>1.0</td>\n",
       "      <td>9</td>\n",
       "      <td>0</td>\n",
       "      <td>0</td>\n",
       "      <td>51</td>\n",
       "      <td>0</td>\n",
       "      <td>...</td>\n",
       "      <td>0</td>\n",
       "      <td>0</td>\n",
       "      <td>0</td>\n",
       "      <td>0</td>\n",
       "      <td>0</td>\n",
       "      <td>0</td>\n",
       "      <td>1</td>\n",
       "      <td>0</td>\n",
       "      <td>0</td>\n",
       "      <td>0</td>\n",
       "    </tr>\n",
       "  </tbody>\n",
       "</table>\n",
       "<p>17414 rows × 24 columns</p>\n",
       "</div>"
      ],
      "text/plain": [
       "       employee_id  region_number  no_of_trainings  age  previous_year_rating  \\\n",
       "0             8724             26                1   24                   0.0   \n",
       "1            74430              4                1   31                   3.0   \n",
       "2            72255             13                1   31                   1.0   \n",
       "3            38562              2                3   31                   2.0   \n",
       "4            64486             29                1   30                   4.0   \n",
       "...            ...            ...              ...  ...                   ...   \n",
       "17409        54192             22                1   24                   2.0   \n",
       "17410        57239             31                1   42                   3.0   \n",
       "17411        73858             25                2   28                   2.0   \n",
       "17412        64573              7                2   30                   5.0   \n",
       "17413        49584              7                1   33                   1.0   \n",
       "\n",
       "       length_of_service  KPIs_met_more_than_80  awards_won  \\\n",
       "0                      1                      1           0   \n",
       "1                      5                      0           0   \n",
       "2                      4                      0           0   \n",
       "3                      9                      0           0   \n",
       "4                      7                      0           0   \n",
       "...                  ...                    ...         ...   \n",
       "17409                  2                      0           0   \n",
       "17410                 10                      0           0   \n",
       "17411                  5                      0           0   \n",
       "17412                  6                      1           0   \n",
       "17413                  9                      0           0   \n",
       "\n",
       "       avg_training_score  department_Finance  ...  department_R&D  \\\n",
       "0                      77                   0  ...               0   \n",
       "1                      51                   0  ...               0   \n",
       "2                      47                   0  ...               0   \n",
       "3                      65                   0  ...               0   \n",
       "4                      61                   1  ...               0   \n",
       "...                   ...                 ...  ...             ...   \n",
       "17409                  47                   0  ...               0   \n",
       "17410                  53                   0  ...               0   \n",
       "17411                  45                   0  ...               0   \n",
       "17412                  81                   0  ...               0   \n",
       "17413                  51                   0  ...               0   \n",
       "\n",
       "       department_Sales & Marketing  department_Technology  \\\n",
       "0                                 0                      1   \n",
       "1                                 0                      0   \n",
       "2                                 1                      0   \n",
       "3                                 0                      0   \n",
       "4                                 0                      0   \n",
       "...                             ...                    ...   \n",
       "17409                             0                      0   \n",
       "17410                             1                      0   \n",
       "17411                             1                      0   \n",
       "17412                             0                      1   \n",
       "17413                             0                      0   \n",
       "\n",
       "       education_Below Secondary  education_Masters & above  \\\n",
       "0                              0                          0   \n",
       "1                              0                          0   \n",
       "2                              0                          0   \n",
       "3                              0                          0   \n",
       "4                              0                          0   \n",
       "...                          ...                        ...   \n",
       "17409                          1                          0   \n",
       "17410                          0                          0   \n",
       "17411                          0                          0   \n",
       "17412                          0                          0   \n",
       "17413                          0                          0   \n",
       "\n",
       "       education_Unknown  gender_m  recruitment_channel_referred  \\\n",
       "0                      0         1                             0   \n",
       "1                      0         0                             0   \n",
       "2                      0         1                             0   \n",
       "3                      0         0                             0   \n",
       "4                      0         1                             0   \n",
       "...                  ...       ...                           ...   \n",
       "17409                  0         1                             0   \n",
       "17410                  0         1                             0   \n",
       "17411                  0         1                             0   \n",
       "17412                  0         0                             1   \n",
       "17413                  0         1                             0   \n",
       "\n",
       "       recruitment_channel_sourcing  promotion_Yes  \n",
       "0                                 1              0  \n",
       "1                                 0              0  \n",
       "2                                 0              0  \n",
       "3                                 0              0  \n",
       "4                                 1              0  \n",
       "...                             ...            ...  \n",
       "17409                             0              0  \n",
       "17410                             0              0  \n",
       "17411                             1              0  \n",
       "17412                             0              0  \n",
       "17413                             0              0  \n",
       "\n",
       "[17414 rows x 24 columns]"
      ]
     },
     "execution_count": 6,
     "metadata": {},
     "output_type": "execute_result"
    }
   ],
   "source": [
    "df2"
   ]
  },
  {
   "cell_type": "code",
   "execution_count": 7,
   "id": "f7255251",
   "metadata": {},
   "outputs": [],
   "source": [
    "indep_X=df2.drop(\"promotion_Yes\",1)\n",
    "dep_Y= df2['promotion_Yes']"
   ]
  },
  {
   "cell_type": "markdown",
   "id": "24c5b329",
   "metadata": {},
   "source": [
    "#Feature Selection"
   ]
  },
  {
   "cell_type": "code",
   "execution_count": 8,
   "id": "e00e8c89",
   "metadata": {},
   "outputs": [],
   "source": [
    "X_train, X_test, y_train, y_test = train_test_split(indep_X, dep_Y, test_size = 0.2, random_state = 42)\n",
    "from sklearn.preprocessing import StandardScaler\n",
    "\n",
    "sc = StandardScaler()\n",
    "\n",
    "X_train_scaled = sc.fit_transform(X_train)\n",
    "X_test_scaled = sc.transform(X_test)"
   ]
  },
  {
   "cell_type": "code",
   "execution_count": 9,
   "id": "4f96c5da",
   "metadata": {},
   "outputs": [],
   "source": [
    "rf_model=RandomForestClassifier(n_estimators=10, max_depth=None,min_samples_split=2, random_state=0)"
   ]
  },
  {
   "cell_type": "code",
   "execution_count": 10,
   "id": "135b7a6e",
   "metadata": {},
   "outputs": [],
   "source": [
    "rf_model=rf_model.fit(X_train_scaled,y_train)"
   ]
  },
  {
   "cell_type": "code",
   "execution_count": 11,
   "id": "a4640ae9",
   "metadata": {},
   "outputs": [
    {
     "data": {
      "text/plain": [
       "[0.043504848412645424,\n",
       " 0.018860142643909335,\n",
       " 0.007251357983666148,\n",
       " 0.03515229210796383,\n",
       " 0.06476722534180591,\n",
       " 0.059208954192822155,\n",
       " 0.0055942388543654305,\n",
       " 0.6713060163634917,\n",
       " 0.05279905465698632,\n",
       " 0.005127013636294433,\n",
       " 0.0008229775531389533,\n",
       " 0.001358762548690149,\n",
       " 0.0032830855567106887,\n",
       " 0.0038456540865279016,\n",
       " 0.00013321005970168238,\n",
       " 0.004288202366502582,\n",
       " 0.0038206967592070954,\n",
       " 0.001338830984191898,\n",
       " 0.006211744159359438,\n",
       " 0.0009253684290461435,\n",
       " 0.005210005628180433,\n",
       " 0.0004760084140569683,\n",
       " 0.0047143092607355]"
      ]
     },
     "execution_count": 11,
     "metadata": {},
     "output_type": "execute_result"
    }
   ],
   "source": [
    " #Retrieve feature importance scores make a list\n",
    "feature_importances =list(rf_model.feature_importances_)\n",
    "feature_importances"
   ]
  },
  {
   "cell_type": "code",
   "execution_count": 12,
   "id": "4660872f",
   "metadata": {},
   "outputs": [
    {
     "name": "stdout",
     "output_type": "stream",
     "text": [
      "awards_won: 0.6713060163634917\n",
      "previous_year_rating: 0.06476722534180591\n",
      "length_of_service: 0.059208954192822155\n",
      "avg_training_score: 0.05279905465698632\n",
      "employee_id: 0.043504848412645424\n",
      "age: 0.03515229210796383\n",
      "region_number: 0.018860142643909335\n",
      "no_of_trainings: 0.007251357983666148\n",
      "education_Masters & above: 0.006211744159359438\n",
      "KPIs_met_more_than_80: 0.0055942388543654305\n",
      "gender_m: 0.005210005628180433\n",
      "department_Finance: 0.005127013636294433\n",
      "recruitment_channel_sourcing: 0.0047143092607355\n",
      "department_Sales & Marketing: 0.004288202366502582\n",
      "department_Procurement: 0.0038456540865279016\n",
      "department_Technology: 0.0038206967592070954\n",
      "department_Operations: 0.0032830855567106887\n",
      "department_Legal: 0.001358762548690149\n",
      "education_Below Secondary: 0.001338830984191898\n",
      "education_Unknown: 0.0009253684290461435\n",
      "department_HR: 0.0008229775531389533\n",
      "recruitment_channel_referred: 0.0004760084140569683\n",
      "department_R&D: 0.00013321005970168238\n"
     ]
    }
   ],
   "source": [
    "#Display feature importances in descending order\n",
    "feature_importances_sorted = sorted(zip(indep_X.columns, feature_importances), key=lambda x: x[1], reverse=True)\n",
    "\n",
    "for feature, importance in feature_importances_sorted:\n",
    "    print(f'{feature}: {importance}')"
   ]
  },
  {
   "cell_type": "code",
   "execution_count": 13,
   "id": "9e11c6a4",
   "metadata": {},
   "outputs": [],
   "source": [
    "# Extract features and importance scores separately from the sorted list\n",
    "features_sorted, importance_scores_sorted = zip(*feature_importances_sorted)"
   ]
  },
  {
   "cell_type": "code",
   "execution_count": 14,
   "id": "c415499e",
   "metadata": {},
   "outputs": [
    {
     "data": {
      "image/png": "[encoded data removed]",
      "text/plain": [
       "<Figure size 640x480 with 1 Axes>"
      ]
     },
     "metadata": {},
     "output_type": "display_data"
    }
   ],
   "source": [
    "#Plotting feature importance\n",
    "plt.bar(features_sorted,importance_scores_sorted)\n",
    "plt.xlabel('Features')\n",
    "plt.ylabel('Importance Scores')\n",
    "plt.title('Feature Importance in CKD')\n",
    "\n",
    "#Rotate x-axis labels for better readability\n",
    "plt.xticks(rotation=60)\n",
    "plt.show()"
   ]
  },
  {
   "cell_type": "code",
   "execution_count": 15,
   "id": "73d87e60",
   "metadata": {},
   "outputs": [],
   "source": [
    "def log_model_feature(X_train_scaled, y_train, threshold=0.1):\n",
    "    \n",
    "    log_model=LogisticRegression(solver='lbfgs')\n",
    "    Log_model=log_model.fit(X_train_scaled, y_train)\n",
    "    #Get feature importances\n",
    "    #Feature_importances = list(Log_model.feature_importances_)\n",
    "\n",
    "    Feature_importances = list(Log_model.coef_)\n",
    "    # Create a sorted list of feature importances\n",
    "    Feature_importances_sorted = sorted(zip(indep_X.columns, Feature_importances), key=lambda x: x[1], reverse=True)\n",
    "    # Display feature importances\n",
    "    for feature, importance in Feature_importances_sorted:\n",
    "        #print(f'{feature}: {importance}')   \n",
    "    # Extract features and importance scores separately from the sorted list\n",
    "        features_sorted,importance_scores_sorted = zip(*Feature_importances_sorted)\n",
    "        # Select features based on the importance threshold\n",
    "       # selected_features = [feature for feature, importance in Feature_importances_sorted if importance > threshold]\n",
    "        log_features = [feature for feature, importance in Feature_importances_sorted if any(np.array(importance) > threshold)]\n",
    "       #print(\"\\nSelected features:\")\n",
    "        print(log_features)\n",
    "    \n",
    "        return log_features\n",
    "    \n",
    "    \n",
    "def DecisionTree_Feature(X_train_scaled, y_train, threshold=0.1):\n",
    "\n",
    "    dt_model=DecisionTreeClassifier(max_depth=None, min_samples_split=2,random_state=0)\n",
    "    DT_model=dt_model.fit(X_train_scaled, y_train)\n",
    "    # Get feature importances\n",
    "    feature_importances = list(DT_model.feature_importances_)\n",
    "    # Create a sorted list of feature importances\n",
    "    feature_importances_sorted = sorted(zip(indep_X.columns, feature_importances), key=lambda x: x[1], reverse=True)\n",
    "    # Display feature importances\n",
    "    for feature, importance in feature_importances_sorted:\n",
    "        #print(f'{feature}: {importance}')   \n",
    "    # Extract features and importance scores separately from the sorted list\n",
    "        features_sorted,importance_scores_sorted = zip(*feature_importances_sorted)\n",
    "        # Select features based on the importance threshold\n",
    "        DT_features = [feature for feature, importance in feature_importances_sorted if importance > threshold]\n",
    "        #print(\"\\nSelected features:\")\n",
    "        print(DT_features)\n",
    "\n",
    "        return DT_features \n",
    "\n",
    "\n",
    "def SVML_feature(X_train_scaled, y_train, threshold=0.1):\n",
    "\n",
    "    SVM=SVC(kernel='linear',random_state=0)\n",
    "    SVM_model=SVM.fit(X_train_scaled, y_train)\n",
    "    # Get feature importances\n",
    "    feature_importances = list(SVM_model.coef_)\n",
    "    # Create a sorted list of feature importances\n",
    "    feature_importances_sorted = sorted(zip(indep_X.columns, feature_importances), key=lambda x: x[1], reverse=True)\n",
    "    # Display feature importances\n",
    "    for feature, importance in feature_importances_sorted:\n",
    "        #print(f'{feature}: {importance}')   \n",
    "    # Extract features and importance scores separately from the sorted list\n",
    "        features_sorted,importance_scores_sorted = zip(*feature_importances_sorted)\n",
    "        # Select features based on the importance threshold\n",
    "    svml_features = [feature for feature, importance in feature_importances_sorted if any(np.array(importance) > threshold)]\n",
    "        #print(\"\\nSelected features:\")\n",
    "    print(svml_features)\n",
    "\n",
    "    return svml_features\n",
    "\n",
    "\n",
    "def SVMNL_feature(X_train_scaled, y_train, threshold=0.1):\n",
    "\n",
    "    svm_model=SVC(kernel='rbf',random_state=0)\n",
    "    SVMNL_model=svm_model.fit(X_train_scaled, y_train)\n",
    "    # Get the indices of support vectors\n",
    "    support_vector_indices = list(SVMNL_model.support_)\n",
    "    # Get the coefficients (dual coefficients) associated with support vectors\n",
    "    support_vector_coefficients = abs(SVMNL_model.dual_coef_)\n",
    "    # Map the coefficients to the corresponding features\n",
    "    feature_importances = {feature_index: coefficient for feature_index, coefficient in zip(support_vector_indices, support_vector_coefficients[0])}\n",
    "    # Sort features by importance\n",
    "    sorted_features = sorted(feature_importances.items(), key=lambda x: x[1], reverse=True)\n",
    "\n",
    "    # Print or use the sorted features as needed\n",
    "    print(\"Feature importances:\")\n",
    "    for feature_index, importance in sorted_features:\n",
    "        #print(f\"Feature {feature_index}: {importance}\")\n",
    "        \n",
    "        #Select features based on the importance threshold\n",
    "        svmnl_features = [feature for feature, importance in feature_importances_sorted if importance > threshold]\n",
    "        print(svmnl_features)\n",
    "\n",
    "        return svmnl_features \n",
    "    \n",
    "    \n",
    "\n",
    "def random_feature(X_train_scaled, y_train, threshold=0.1):\n",
    "    \n",
    "    rf_model=RandomForestClassifier(n_estimators=10, max_depth=None, min_samples_split=2, random_state=0)\n",
    "    rf_model=rf_model.fit(X_train_scaled, y_train)\n",
    "    # Get feature importances\n",
    "    feature_importances = list(rf_model.feature_importances_)\n",
    "    # Create a sorted list of feature importances\n",
    "    feature_importances_sorted = sorted(zip(indep_X.columns, feature_importances), key=lambda x: x[1], reverse=True)\n",
    "    # Display feature importances\n",
    "    for feature, importance in feature_importances_sorted:\n",
    "        #print(f'{feature}: {importance}')   \n",
    "    # Extract features and importance scores separately from the sorted list\n",
    "        features_sorted,importance_scores_sorted = zip(*feature_importances_sorted)\n",
    "        # Select features based on the importance threshold\n",
    "        rf_selected_features = [feature for feature, importance in feature_importances_sorted if importance > threshold]\n",
    "        #print(\"\\nSelected features:\")\n",
    "        print(rf_selected_features)\n",
    "\n",
    "        return rf_selected_features"
   ]
  },
  {
   "cell_type": "code",
   "execution_count": 16,
   "id": "7d86e68a",
   "metadata": {},
   "outputs": [
    {
     "name": "stdout",
     "output_type": "stream",
     "text": [
      "['employee_id']\n",
      "['employee_id']\n"
     ]
    }
   ],
   "source": [
    "log_features=log_model_feature(X_train_scaled, y_train, threshold=0.3)\n",
    "\n",
    "print(log_features)"
   ]
  },
  {
   "cell_type": "code",
   "execution_count": 17,
   "id": "01f1b396",
   "metadata": {},
   "outputs": [
    {
     "name": "stdout",
     "output_type": "stream",
     "text": [
      "['awards_won']\n",
      "['awards_won']\n"
     ]
    }
   ],
   "source": [
    "DT_features = DecisionTree_Feature(X_train_scaled, y_train, threshold=0.3)\n",
    "\n",
    "print(DT_features)"
   ]
  },
  {
   "cell_type": "code",
   "execution_count": 18,
   "id": "b20ce572",
   "metadata": {},
   "outputs": [
    {
     "name": "stdout",
     "output_type": "stream",
     "text": [
      "['employee_id']\n",
      "['employee_id']\n"
     ]
    }
   ],
   "source": [
    "svml_features = SVML_feature(X_train_scaled, y_train, threshold=0.3)\n",
    "print(svml_features)"
   ]
  },
  {
   "cell_type": "code",
   "execution_count": 19,
   "id": "bf76b744",
   "metadata": {},
   "outputs": [
    {
     "name": "stdout",
     "output_type": "stream",
     "text": [
      "Feature importances:\n",
      "['awards_won']\n",
      "['awards_won']\n"
     ]
    }
   ],
   "source": [
    "svmnl_features = SVMNL_feature(X_train_scaled, y_train, threshold=0.3)\n",
    "print(svmnl_features)"
   ]
  },
  {
   "cell_type": "code",
   "execution_count": 20,
   "id": "e12f5883",
   "metadata": {},
   "outputs": [
    {
     "name": "stdout",
     "output_type": "stream",
     "text": [
      "['awards_won']\n",
      "['awards_won']\n"
     ]
    }
   ],
   "source": [
    "rf_selected_features=random_feature(X_train_scaled, y_train, threshold=0.3)\n",
    "#rf_selected_features=result5\n",
    "print(rf_selected_features)"
   ]
  },
  {
   "cell_type": "code",
   "execution_count": 21,
   "id": "d8b53cbe",
   "metadata": {},
   "outputs": [],
   "source": [
    "def log_input(log_features):\n",
    "    \n",
    "    # Convert feature names to column indices\n",
    "    feature_indices = [indep_X.columns.get_loc(feature) for feature in log_features]\n",
    "    # Assuming X_train_scaled and X_test_scaled are numpy arrays\n",
    "    #X_train_current contains log_features as keys and the corresponding columns from the X_train_scaled array as values. \n",
    "    #The values are obtained by slicing the X_train_scaled array using the index from the feature_indices list.\n",
    "    X_train_current = {feature: X_train_scaled[:, int(index)] for feature, index in zip(log_features, feature_indices)}\n",
    "    X_test_current = {feature: X_test_scaled[:, int(index)] for feature, index in zip(log_features, feature_indices)}\n",
    "    # Convert dictionaries to numpy arrays\n",
    "    #X_train_current_array = np.column_stack(list(X_train_current.values()))\n",
    "    #X_test_current_array = np.column_stack(list(X_test_current.values()))\n",
    "    #np.column_stack() function is used to stack the list of NumPy arrays as columns into a new 2D NumPy array\n",
    "    #called log_X_train.\n",
    "    log_X_train= np.column_stack(list(X_train_current.values()))\n",
    "    log_X_test = np.column_stack(list(X_test_current.values()))\n",
    "\n",
    "    return log_X_train,log_X_test\n",
    "\n",
    "\n",
    "\n",
    "def DT_input(DT_features):\n",
    "    \n",
    "    # Convert feature names to column indices\n",
    "    feature_indices = [indep_X.columns.get_loc(feature) for feature in DT_features]\n",
    "    # Assuming X_train_scaled and X_test_scaled are numpy arrays\n",
    "    X_train_current = {feature: X_train_scaled[:, int(index)] for feature, index in zip(DT_features, feature_indices)}\n",
    "    X_test_current = {feature: X_test_scaled[:, int(index)] for feature, index in zip(DT_features, feature_indices)}\n",
    "    # Convert dictionaries to numpy arrays\n",
    "    DT_X_train = np.column_stack(list(X_train_current.values()))\n",
    "    DT_X_test = np.column_stack(list(X_test_current.values()))\n",
    "\n",
    "    return DT_X_train, DT_X_test\n",
    "\n",
    "\n",
    "\n",
    "def svml_input(svml_features):\n",
    "    \n",
    "    # Convert feature names to column indices\n",
    "    feature_indices = [indep_X.columns.get_loc(feature) for feature in svml_features]\n",
    "    # Assuming X_train_scaled and X_test_scaled are numpy arrays\n",
    "    X_train_current = {feature: X_train_scaled[:, int(index)] for feature, index in zip(svml_features, feature_indices)}\n",
    "    X_test_current = {feature: X_test_scaled[:, int(index)] for feature, index in zip(svml_features , feature_indices)}\n",
    "    # Convert dictionaries to numpy arrays\n",
    "    svml_X_train = np.column_stack(list(X_train_current.values()))\n",
    "    svml_X_test = np.column_stack(list(X_test_current.values()))\n",
    "\n",
    "    return svml_X_train, svml_X_test\n",
    "\n",
    "def svmnl_input(svmnl_features):\n",
    "    \n",
    "    # Convert feature names to column indices\n",
    "    feature_indices = [indep_X.columns.get_loc(feature) for feature in svmnl_features]\n",
    "    # Assuming X_train_scaled and X_test_scaled are numpy arrays\n",
    "    X_train_current = {feature: X_train_scaled[:, int(index)] for feature, index in zip(svmnl_features, feature_indices)}\n",
    "    X_test_current = {feature: X_test_scaled[:, int(index)] for feature, index in zip(svmnl_features, feature_indices)}\n",
    "    # Convert dictionaries to numpy arrays\n",
    "    svmnl_X_train = np.column_stack(list(X_train_current.values()))\n",
    "    svmnl_X_test = np.column_stack(list(X_test_current.values()))\n",
    "    return svmnl_X_train,svmnl_X_test\n",
    "\n",
    "def rf_input(rf_selected_features):\n",
    "    \n",
    "    # Convert feature names to column indices\n",
    "    feature_indices = [indep_X.columns.get_loc(feature) for feature in rf_selected_features]\n",
    "    # Assuming X_train_scaled and X_test_scaled are numpy arrays\n",
    "    X_train_current = {feature: X_train_scaled[:, int(index)] for feature, index in zip(rf_selected_features, feature_indices)}\n",
    "    X_test_current = {feature: X_test_scaled[:, int(index)] for feature, index in zip(rf_selected_features, feature_indices)}\n",
    "    # Convert dictionaries to numpy arrays\n",
    "    X_train_current_array = np.column_stack(list(X_train_current.values()))\n",
    "    X_test_current_array = np.column_stack(list(X_test_current.values()))\n",
    "\n",
    "    return X_train_current_array,X_test_current_array"
   ]
  },
  {
   "cell_type": "code",
   "execution_count": 22,
   "id": "ee1e1a92",
   "metadata": {},
   "outputs": [
    {
     "name": "stdout",
     "output_type": "stream",
     "text": [
      "[[-0.36315053]\n",
      " [ 1.59772818]\n",
      " [-1.16112882]\n",
      " ...\n",
      " [ 1.47444428]\n",
      " [-1.43837456]\n",
      " [ 1.56832667]]\n",
      "[[-1.23357627]\n",
      " [-0.8586189 ]\n",
      " [ 1.23174972]\n",
      " ...\n",
      " [ 0.88509351]\n",
      " [ 0.77563008]\n",
      " [-0.01715453]]\n"
     ]
    }
   ],
   "source": [
    "log_X_train,log_X_test=log_input(log_features)\n",
    "print(log_X_train)\n",
    "print(log_X_test)"
   ]
  },
  {
   "cell_type": "code",
   "execution_count": 23,
   "id": "8ed30ea9",
   "metadata": {},
   "outputs": [
    {
     "name": "stdout",
     "output_type": "stream",
     "text": [
      "[[-0.15528145]\n",
      " [-0.15528145]\n",
      " [-0.15528145]\n",
      " ...\n",
      " [-0.15528145]\n",
      " [-0.15528145]\n",
      " [-0.15528145]]\n",
      "[[-0.15528145]\n",
      " [ 6.43991933]\n",
      " [-0.15528145]\n",
      " ...\n",
      " [-0.15528145]\n",
      " [-0.15528145]\n",
      " [-0.15528145]]\n"
     ]
    }
   ],
   "source": [
    "DT_X_train,DT_X_test=DT_input(DT_features)\n",
    "print(DT_X_train)\n",
    "print(DT_X_test)"
   ]
  },
  {
   "cell_type": "code",
   "execution_count": 24,
   "id": "620b9600",
   "metadata": {},
   "outputs": [
    {
     "name": "stdout",
     "output_type": "stream",
     "text": [
      "[[-0.36315053]\n",
      " [ 1.59772818]\n",
      " [-1.16112882]\n",
      " ...\n",
      " [ 1.47444428]\n",
      " [-1.43837456]\n",
      " [ 1.56832667]]\n",
      "[[-1.23357627]\n",
      " [-0.8586189 ]\n",
      " [ 1.23174972]\n",
      " ...\n",
      " [ 0.88509351]\n",
      " [ 0.77563008]\n",
      " [-0.01715453]]\n"
     ]
    }
   ],
   "source": [
    "svml_X_train, svml_X_test=svml_input(svml_features)\n",
    "print(svml_X_train)\n",
    "print(svml_X_test)"
   ]
  },
  {
   "cell_type": "code",
   "execution_count": 25,
   "id": "21bd1236",
   "metadata": {},
   "outputs": [
    {
     "name": "stdout",
     "output_type": "stream",
     "text": [
      "[[-0.36315053]\n",
      " [ 1.59772818]\n",
      " [-1.16112882]\n",
      " ...\n",
      " [ 1.47444428]\n",
      " [-1.43837456]\n",
      " [ 1.56832667]]\n",
      "[[-1.23357627]\n",
      " [-0.8586189 ]\n",
      " [ 1.23174972]\n",
      " ...\n",
      " [ 0.88509351]\n",
      " [ 0.77563008]\n",
      " [-0.01715453]]\n"
     ]
    }
   ],
   "source": [
    "svmlnl_X_train, svmlnl_X_test=svml_input(svml_features)\n",
    "print(svmlnl_X_train)\n",
    "print(svmlnl_X_test)"
   ]
  },
  {
   "cell_type": "code",
   "execution_count": 26,
   "id": "8d765dc1",
   "metadata": {},
   "outputs": [
    {
     "name": "stdout",
     "output_type": "stream",
     "text": [
      "[[-0.15528145]\n",
      " [-0.15528145]\n",
      " [-0.15528145]\n",
      " ...\n",
      " [-0.15528145]\n",
      " [-0.15528145]\n",
      " [-0.15528145]]\n",
      "[[-0.15528145]\n",
      " [ 6.43991933]\n",
      " [-0.15528145]\n",
      " ...\n",
      " [-0.15528145]\n",
      " [-0.15528145]\n",
      " [-0.15528145]]\n"
     ]
    }
   ],
   "source": [
    "X_train_current_array,X_test_current_array=rf_input(rf_selected_features)\n",
    "print(X_train_current_array)\n",
    "print(X_test_current_array)"
   ]
  },
  {
   "cell_type": "code",
   "execution_count": 27,
   "id": "e81f6e79",
   "metadata": {},
   "outputs": [],
   "source": [
    "log_model=LogisticRegression(solver='lbfgs')\n",
    "dt_model=DecisionTreeClassifier(max_depth=None, min_samples_split=2,random_state=0)\n",
    "SVM=SVC(kernel='linear',random_state=0)\n",
    "svm=SVC(kernel='rbf',random_state=0)\n",
    "rf_model=RandomForestClassifier(n_estimators=10, max_depth=None, min_samples_split=2, random_state=0)"
   ]
  },
  {
   "cell_type": "code",
   "execution_count": 28,
   "id": "ac3b5a57",
   "metadata": {},
   "outputs": [],
   "source": [
    "def LOGIS_model(log_X_train,log_X_test,y_train, y_test,log_model):\n",
    "    \n",
    "    # Fit the model on the training data\n",
    "    log_model.fit(log_X_train,y_train)\n",
    "    # Make predictions on the test data\n",
    "    y_pred=log_model.predict(log_X_test)\n",
    "    # Calculate accuracy\n",
    "    accuracy=accuracy_score(y_test,y_pred)\n",
    "    \n",
    "    return accuracy\n",
    "\n",
    "def DecTree_model(DT_X_train, DT_X_test, y_train, y_test, dt_model):\n",
    "    \n",
    "    # Fit the model on the training data\n",
    "    dt_model.fit(DT_X_train,y_train)\n",
    "    # Make predictions on the test data\n",
    "    y_pred=dt_model.predict(DT_X_test)\n",
    "    # Calculate accuracy\n",
    "    accuracy=accuracy_score(y_test,y_pred)\n",
    "    \n",
    "    return accuracy\n",
    "\n",
    "def SVML(svml_X_train, svml_X_test, y_train, y_test, SVM):\n",
    "    \n",
    "    # Fit the model on the training data\n",
    "    SVM.fit(svml_X_train,y_train)\n",
    "    # Make predictions on the test data\n",
    "    y_pred=SVM.predict(svml_X_test)\n",
    "    # Calculate accuracy\n",
    "    accuracy=accuracy_score(y_test,y_pred)\n",
    "    \n",
    "    return accuracy\n",
    "\n",
    "def SVMNL(svmlnl_X_train,svmlnl_X_test, y_train, y_test,svm):\n",
    "    \n",
    "    # Fit the model on the training data\n",
    "    svm.fit(svmlnl_X_train,y_train)\n",
    "    # Make predictions on the test data\n",
    "    y_pred=svm.predict(svmlnl_X_test)\n",
    "    # Calculate accuracy\n",
    "    accuracy=accuracy_score(y_test,y_pred)\n",
    "    \n",
    "    return accuracy\n",
    "\n",
    "def random_forest(X_train_current_array, X_test_current_array, y_train, y_test, rf_model):\n",
    "    \n",
    "    # Fit the model on the training data\n",
    "    rf_model.fit(X_train_current_array, y_train)\n",
    "    # Make predictions on the test data\n",
    "    y_pred=rf_model.predict(X_test_current_array)\n",
    "    # Calculate accuracy\n",
    "    accuracy=accuracy_score(y_test, y_pred)\n",
    "    \n",
    "    return accuracy"
   ]
  },
  {
   "cell_type": "code",
   "execution_count": 29,
   "id": "36e2b457",
   "metadata": {},
   "outputs": [
    {
     "name": "stdout",
     "output_type": "stream",
     "text": [
      "Accuracy:0.9853574504737296\n"
     ]
    }
   ],
   "source": [
    "log_acc=LOGIS_model(log_X_train,log_X_test, y_train, y_test,log_model)\n",
    "print(f'Accuracy:{log_acc}')"
   ]
  },
  {
   "cell_type": "code",
   "execution_count": 30,
   "id": "41db6a10",
   "metadata": {},
   "outputs": [
    {
     "name": "stdout",
     "output_type": "stream",
     "text": [
      "Accuracy:0.9919609532012633\n"
     ]
    }
   ],
   "source": [
    "Dec_acc=DecTree_model(DT_X_train, DT_X_test, y_train, y_test, dt_model)\n",
    "print(f'Accuracy:{Dec_acc}')"
   ]
  },
  {
   "cell_type": "code",
   "execution_count": 31,
   "id": "d7fc0b5c",
   "metadata": {},
   "outputs": [
    {
     "name": "stdout",
     "output_type": "stream",
     "text": [
      "Accuracy:0.9853574504737296\n"
     ]
    }
   ],
   "source": [
    "Svm_acc=SVML(svml_X_train, svml_X_test, y_train, y_test, SVM)\n",
    "print(f'Accuracy:{Svm_acc}')"
   ]
  },
  {
   "cell_type": "code",
   "execution_count": 32,
   "id": "60358290",
   "metadata": {},
   "outputs": [
    {
     "name": "stdout",
     "output_type": "stream",
     "text": [
      "Accuracy:0.9853574504737296\n"
     ]
    }
   ],
   "source": [
    "SvmNL_acc=SVMNL(svmlnl_X_train,svmlnl_X_test, y_train, y_test,svm)\n",
    "print(f'Accuracy:{SvmNL_acc}')"
   ]
  },
  {
   "cell_type": "code",
   "execution_count": 33,
   "id": "f2afe774",
   "metadata": {},
   "outputs": [
    {
     "name": "stdout",
     "output_type": "stream",
     "text": [
      "Accuracy: 0.9919609532012633\n"
     ]
    }
   ],
   "source": [
    "Random_accuracy =  random_forest(X_train_current_array, X_test_current_array, y_train, y_test, rf_model)\n",
    "print(f'Accuracy: {Random_accuracy}')"
   ]
  },
  {
   "cell_type": "markdown",
   "id": "2f45d966",
   "metadata": {},
   "source": [
    "#Model creation"
   ]
  },
  {
   "cell_type": "code",
   "execution_count": 34,
   "id": "00df3592",
   "metadata": {},
   "outputs": [],
   "source": [
    "X_train,X_test,y_train,y_test=train_test_split(indep_X,dep_Y, test_size=0.25, random_state=0)"
   ]
  },
  {
   "cell_type": "code",
   "execution_count": 35,
   "id": "b3701033",
   "metadata": {},
   "outputs": [],
   "source": [
    "scaler = StandardScaler()\n",
    "X_train_scaled = scaler.fit_transform(X_train)\n",
    "X_test_scaled = scaler.transform(X_test)"
   ]
  },
  {
   "cell_type": "code",
   "execution_count": 36,
   "id": "51fac9b3",
   "metadata": {},
   "outputs": [
    {
     "data": {
      "text/plain": [
       "RandomForestClassifier(criterion='entropy', n_estimators=10, random_state=0)"
      ]
     },
     "execution_count": 36,
     "metadata": {},
     "output_type": "execute_result"
    }
   ],
   "source": [
    "# Create and train the model\n",
    "from sklearn.ensemble import RandomForestClassifier\n",
    "model=RandomForestClassifier(n_estimators=10,criterion='entropy',random_state=0)\n",
    "model.fit(X_train_scaled, y_train)"
   ]
  },
  {
   "cell_type": "code",
   "execution_count": 37,
   "id": "3fce17ba",
   "metadata": {},
   "outputs": [
    {
     "name": "stdout",
     "output_type": "stream",
     "text": [
      "Model Accuracy: 0.9995406522737712\n"
     ]
    }
   ],
   "source": [
    "# Evaluate the model\n",
    "y_pred = model.predict(X_test_scaled)\n",
    "print(\"Model Accuracy:\", accuracy_score(y_test, y_pred))"
   ]
  },
  {
   "cell_type": "code",
   "execution_count": 38,
   "id": "dd9aef3d",
   "metadata": {},
   "outputs": [
    {
     "name": "stdout",
     "output_type": "stream",
     "text": [
      "              precision    recall  f1-score   support\n",
      "\n",
      "           0       1.00      1.00      1.00      4286\n",
      "           1       1.00      0.97      0.99        68\n",
      "\n",
      "    accuracy                           1.00      4354\n",
      "   macro avg       1.00      0.99      0.99      4354\n",
      "weighted avg       1.00      1.00      1.00      4354\n",
      "\n"
     ]
    }
   ],
   "source": [
    "from sklearn.metrics import classification_report\n",
    "clf_report=classification_report(y_test,y_pred)\n",
    "print(clf_report)"
   ]
  },
  {
   "cell_type": "code",
   "execution_count": 39,
   "id": "0094fa10",
   "metadata": {},
   "outputs": [
    {
     "name": "stdout",
     "output_type": "stream",
     "text": [
      "<class 'pandas.core.frame.DataFrame'>\n",
      "RangeIndex: 17414 entries, 0 to 17413\n",
      "Data columns (total 14 columns):\n",
      "employee_id              17414 non-null int64\n",
      "department               17414 non-null object\n",
      "region_number            17414 non-null int64\n",
      "education                17414 non-null object\n",
      "gender                   17414 non-null object\n",
      "recruitment_channel      17414 non-null object\n",
      "no_of_trainings          17414 non-null int64\n",
      "age                      17414 non-null int64\n",
      "previous_year_rating     17414 non-null float64\n",
      "length_of_service        17414 non-null int64\n",
      "KPIs_met_more_than_80    17414 non-null int64\n",
      "awards_won               17414 non-null int64\n",
      "avg_training_score       17414 non-null int64\n",
      "promotion                17414 non-null object\n",
      "dtypes: float64(1), int64(8), object(5)\n",
      "memory usage: 1.9+ MB\n"
     ]
    }
   ],
   "source": [
    "dataset.info()"
   ]
  },
  {
   "cell_type": "code",
   "execution_count": 40,
   "id": "a37adc4c",
   "metadata": {},
   "outputs": [
    {
     "name": "stdout",
     "output_type": "stream",
     "text": [
      "[[4286    0]\n",
      " [   2   66]]\n"
     ]
    }
   ],
   "source": [
    "from sklearn.metrics import confusion_matrix\n",
    "cm=confusion_matrix(y_test,y_pred)\n",
    "print(cm)"
   ]
  },
  {
   "cell_type": "code",
   "execution_count": 48,
   "id": "e8f66585",
   "metadata": {},
   "outputs": [
    {
     "ename": "SyntaxError",
     "evalue": "can't assign to operator (2972640907.py, line 9)",
     "output_type": "error",
     "traceback": [
      "\u001b[1;36m  File \u001b[1;32m\"C:\\Users\\abina\\AppData\\Local\\Temp\\ipykernel_10504\\2972640907.py\"\u001b[1;36m, line \u001b[1;32m9\u001b[0m\n\u001b[1;33m    education_Masters&above=int(input(\"education_Masters & above 0 or 1:\"))\u001b[0m\n\u001b[1;37m                                                                           ^\u001b[0m\n\u001b[1;31mSyntaxError\u001b[0m\u001b[1;31m:\u001b[0m can't assign to operator\n"
     ]
    }
   ],
   "source": [
    "\n",
    "awards_won_input=int(input(\"Won 0 or 1:\"))\n",
    "previous_year_rating_input=float(input(\"previous_year_rating:\"))\n",
    "length_of_service_input=int(input(\"length_of_service:\"))\n",
    "avg_training_score=int(input(\"Training score:\"))\n",
    "employee_id=int(input(\"Employee_id:\"))\n",
    "age=int(input(\"Age:\"))\n",
    "region_number=int(input(\"Region_no:\"))\n",
    "no_of_trainings=int(input(\"Trainings attended:\"))\n",
    "education_Masters&above=int(input(\"education_Masters & above 0 or 1:\"))\n",
    "KPIs_met_more_than_80=int(input(\"KPI 0 or 1:\"))\n",
    "gender_m=int(input(\"Male 0 or 1:\"))\n",
    "department_Finance=int(input(\"Finance 0 or 1:\"))\n",
    "recruitment_channel_sourcing=int(input(\"sourcing 0 or 1:\"))\n",
    "department_Sales&Marketing=int(input(\"Sales & Marketing 0 or 1:\"))\n",
    "department_Procurement=int(input(\"Procurement or 1:\"))\n",
    "department_Technology=int(input(\"Technology 0 or 1:\"))\n",
    "department_Operations=int(input(\"Operations 0 or 1:\"))\n",
    "department_Legal=int(input(\"Legal 0 or 1:\"))\n",
    "education_Below_Secondary=int(input(\"Below Secondary 0 or 1:\"))\n",
    "education_Unknown=int(input(\"Unknown 0 or 1:\"))\n",
    "department_HR=int(input(\"HR 0 or 1:\"))\n",
    "recruitment_channel_referred=int(input(\"referred 0 or 1:\"))\n",
    "department_R&D=int(input(\"R&D 0 or 1:\"))"
   ]
  },
  {
   "cell_type": "code",
   "execution_count": 42,
   "id": "2019a795",
   "metadata": {},
   "outputs": [
    {
     "ename": "ValueError",
     "evalue": "X has 3 features, but RandomForestClassifier is expecting 23 features as input.",
     "output_type": "error",
     "traceback": [
      "\u001b[1;31m---------------------------------------------------------------------------\u001b[0m",
      "\u001b[1;31mValueError\u001b[0m                                Traceback (most recent call last)",
      "\u001b[1;32m~\\AppData\\Local\\Temp\\ipykernel_10504\\1491083042.py\u001b[0m in \u001b[0;36m<module>\u001b[1;34m\u001b[0m\n\u001b[1;32m----> 1\u001b[1;33m \u001b[0mFuture_Prediction\u001b[0m\u001b[1;33m=\u001b[0m\u001b[0mmodel\u001b[0m\u001b[1;33m.\u001b[0m\u001b[0mpredict\u001b[0m\u001b[1;33m(\u001b[0m\u001b[1;33m[\u001b[0m\u001b[1;33m[\u001b[0m\u001b[0mprevious_year_rating_input\u001b[0m\u001b[1;33m,\u001b[0m\u001b[0mlength_of_service_input\u001b[0m\u001b[1;33m,\u001b[0m\u001b[0mawards_won_input\u001b[0m\u001b[1;33m]\u001b[0m\u001b[1;33m]\u001b[0m\u001b[1;33m)\u001b[0m\u001b[1;33m\u001b[0m\u001b[1;33m\u001b[0m\u001b[0m\n\u001b[0m\u001b[0;32m      2\u001b[0m \u001b[0mprint\u001b[0m\u001b[1;33m(\u001b[0m\u001b[1;34m\"Future_Prediction={}\"\u001b[0m\u001b[1;33m.\u001b[0m\u001b[0mformat\u001b[0m\u001b[1;33m(\u001b[0m\u001b[0mFuture_Prediction\u001b[0m\u001b[1;33m)\u001b[0m\u001b[1;33m)\u001b[0m\u001b[1;33m\u001b[0m\u001b[1;33m\u001b[0m\u001b[0m\n",
      "\u001b[1;32m~\\Anac\\envs\\aiml\\lib\\site-packages\\sklearn\\ensemble\\_forest.py\u001b[0m in \u001b[0;36mpredict\u001b[1;34m(self, X)\u001b[0m\n\u001b[0;32m    806\u001b[0m             \u001b[0mThe\u001b[0m \u001b[0mpredicted\u001b[0m \u001b[0mclasses\u001b[0m\u001b[1;33m.\u001b[0m\u001b[1;33m\u001b[0m\u001b[1;33m\u001b[0m\u001b[0m\n\u001b[0;32m    807\u001b[0m         \"\"\"\n\u001b[1;32m--> 808\u001b[1;33m         \u001b[0mproba\u001b[0m \u001b[1;33m=\u001b[0m \u001b[0mself\u001b[0m\u001b[1;33m.\u001b[0m\u001b[0mpredict_proba\u001b[0m\u001b[1;33m(\u001b[0m\u001b[0mX\u001b[0m\u001b[1;33m)\u001b[0m\u001b[1;33m\u001b[0m\u001b[1;33m\u001b[0m\u001b[0m\n\u001b[0m\u001b[0;32m    809\u001b[0m \u001b[1;33m\u001b[0m\u001b[0m\n\u001b[0;32m    810\u001b[0m         \u001b[1;32mif\u001b[0m \u001b[0mself\u001b[0m\u001b[1;33m.\u001b[0m\u001b[0mn_outputs_\u001b[0m \u001b[1;33m==\u001b[0m \u001b[1;36m1\u001b[0m\u001b[1;33m:\u001b[0m\u001b[1;33m\u001b[0m\u001b[1;33m\u001b[0m\u001b[0m\n",
      "\u001b[1;32m~\\Anac\\envs\\aiml\\lib\\site-packages\\sklearn\\ensemble\\_forest.py\u001b[0m in \u001b[0;36mpredict_proba\u001b[1;34m(self, X)\u001b[0m\n\u001b[0;32m    848\u001b[0m         \u001b[0mcheck_is_fitted\u001b[0m\u001b[1;33m(\u001b[0m\u001b[0mself\u001b[0m\u001b[1;33m)\u001b[0m\u001b[1;33m\u001b[0m\u001b[1;33m\u001b[0m\u001b[0m\n\u001b[0;32m    849\u001b[0m         \u001b[1;31m# Check data\u001b[0m\u001b[1;33m\u001b[0m\u001b[1;33m\u001b[0m\u001b[1;33m\u001b[0m\u001b[0m\n\u001b[1;32m--> 850\u001b[1;33m         \u001b[0mX\u001b[0m \u001b[1;33m=\u001b[0m \u001b[0mself\u001b[0m\u001b[1;33m.\u001b[0m\u001b[0m_validate_X_predict\u001b[0m\u001b[1;33m(\u001b[0m\u001b[0mX\u001b[0m\u001b[1;33m)\u001b[0m\u001b[1;33m\u001b[0m\u001b[1;33m\u001b[0m\u001b[0m\n\u001b[0m\u001b[0;32m    851\u001b[0m \u001b[1;33m\u001b[0m\u001b[0m\n\u001b[0;32m    852\u001b[0m         \u001b[1;31m# Assign chunk of trees to jobs\u001b[0m\u001b[1;33m\u001b[0m\u001b[1;33m\u001b[0m\u001b[1;33m\u001b[0m\u001b[0m\n",
      "\u001b[1;32m~\\Anac\\envs\\aiml\\lib\\site-packages\\sklearn\\ensemble\\_forest.py\u001b[0m in \u001b[0;36m_validate_X_predict\u001b[1;34m(self, X)\u001b[0m\n\u001b[0;32m    577\u001b[0m         Validate X whenever one tries to predict, apply, predict_proba.\"\"\"\n\u001b[0;32m    578\u001b[0m         \u001b[0mcheck_is_fitted\u001b[0m\u001b[1;33m(\u001b[0m\u001b[0mself\u001b[0m\u001b[1;33m)\u001b[0m\u001b[1;33m\u001b[0m\u001b[1;33m\u001b[0m\u001b[0m\n\u001b[1;32m--> 579\u001b[1;33m         \u001b[0mX\u001b[0m \u001b[1;33m=\u001b[0m \u001b[0mself\u001b[0m\u001b[1;33m.\u001b[0m\u001b[0m_validate_data\u001b[0m\u001b[1;33m(\u001b[0m\u001b[0mX\u001b[0m\u001b[1;33m,\u001b[0m \u001b[0mdtype\u001b[0m\u001b[1;33m=\u001b[0m\u001b[0mDTYPE\u001b[0m\u001b[1;33m,\u001b[0m \u001b[0maccept_sparse\u001b[0m\u001b[1;33m=\u001b[0m\u001b[1;34m\"csr\"\u001b[0m\u001b[1;33m,\u001b[0m \u001b[0mreset\u001b[0m\u001b[1;33m=\u001b[0m\u001b[1;32mFalse\u001b[0m\u001b[1;33m)\u001b[0m\u001b[1;33m\u001b[0m\u001b[1;33m\u001b[0m\u001b[0m\n\u001b[0m\u001b[0;32m    580\u001b[0m         \u001b[1;32mif\u001b[0m \u001b[0missparse\u001b[0m\u001b[1;33m(\u001b[0m\u001b[0mX\u001b[0m\u001b[1;33m)\u001b[0m \u001b[1;32mand\u001b[0m \u001b[1;33m(\u001b[0m\u001b[0mX\u001b[0m\u001b[1;33m.\u001b[0m\u001b[0mindices\u001b[0m\u001b[1;33m.\u001b[0m\u001b[0mdtype\u001b[0m \u001b[1;33m!=\u001b[0m \u001b[0mnp\u001b[0m\u001b[1;33m.\u001b[0m\u001b[0mintc\u001b[0m \u001b[1;32mor\u001b[0m \u001b[0mX\u001b[0m\u001b[1;33m.\u001b[0m\u001b[0mindptr\u001b[0m\u001b[1;33m.\u001b[0m\u001b[0mdtype\u001b[0m \u001b[1;33m!=\u001b[0m \u001b[0mnp\u001b[0m\u001b[1;33m.\u001b[0m\u001b[0mintc\u001b[0m\u001b[1;33m)\u001b[0m\u001b[1;33m:\u001b[0m\u001b[1;33m\u001b[0m\u001b[1;33m\u001b[0m\u001b[0m\n\u001b[0;32m    581\u001b[0m             \u001b[1;32mraise\u001b[0m \u001b[0mValueError\u001b[0m\u001b[1;33m(\u001b[0m\u001b[1;34m\"No support for np.int64 index based sparse matrices\"\u001b[0m\u001b[1;33m)\u001b[0m\u001b[1;33m\u001b[0m\u001b[1;33m\u001b[0m\u001b[0m\n",
      "\u001b[1;32m~\\Anac\\envs\\aiml\\lib\\site-packages\\sklearn\\base.py\u001b[0m in \u001b[0;36m_validate_data\u001b[1;34m(self, X, y, reset, validate_separately, **check_params)\u001b[0m\n\u001b[0;32m    583\u001b[0m \u001b[1;33m\u001b[0m\u001b[0m\n\u001b[0;32m    584\u001b[0m         \u001b[1;32mif\u001b[0m \u001b[1;32mnot\u001b[0m \u001b[0mno_val_X\u001b[0m \u001b[1;32mand\u001b[0m \u001b[0mcheck_params\u001b[0m\u001b[1;33m.\u001b[0m\u001b[0mget\u001b[0m\u001b[1;33m(\u001b[0m\u001b[1;34m\"ensure_2d\"\u001b[0m\u001b[1;33m,\u001b[0m \u001b[1;32mTrue\u001b[0m\u001b[1;33m)\u001b[0m\u001b[1;33m:\u001b[0m\u001b[1;33m\u001b[0m\u001b[1;33m\u001b[0m\u001b[0m\n\u001b[1;32m--> 585\u001b[1;33m             \u001b[0mself\u001b[0m\u001b[1;33m.\u001b[0m\u001b[0m_check_n_features\u001b[0m\u001b[1;33m(\u001b[0m\u001b[0mX\u001b[0m\u001b[1;33m,\u001b[0m \u001b[0mreset\u001b[0m\u001b[1;33m=\u001b[0m\u001b[0mreset\u001b[0m\u001b[1;33m)\u001b[0m\u001b[1;33m\u001b[0m\u001b[1;33m\u001b[0m\u001b[0m\n\u001b[0m\u001b[0;32m    586\u001b[0m \u001b[1;33m\u001b[0m\u001b[0m\n\u001b[0;32m    587\u001b[0m         \u001b[1;32mreturn\u001b[0m \u001b[0mout\u001b[0m\u001b[1;33m\u001b[0m\u001b[1;33m\u001b[0m\u001b[0m\n",
      "\u001b[1;32m~\\Anac\\envs\\aiml\\lib\\site-packages\\sklearn\\base.py\u001b[0m in \u001b[0;36m_check_n_features\u001b[1;34m(self, X, reset)\u001b[0m\n\u001b[0;32m    399\u001b[0m         \u001b[1;32mif\u001b[0m \u001b[0mn_features\u001b[0m \u001b[1;33m!=\u001b[0m \u001b[0mself\u001b[0m\u001b[1;33m.\u001b[0m\u001b[0mn_features_in_\u001b[0m\u001b[1;33m:\u001b[0m\u001b[1;33m\u001b[0m\u001b[1;33m\u001b[0m\u001b[0m\n\u001b[0;32m    400\u001b[0m             raise ValueError(\n\u001b[1;32m--> 401\u001b[1;33m                 \u001b[1;34mf\"X has {n_features} features, but {self.__class__.__name__} \"\u001b[0m\u001b[1;33m\u001b[0m\u001b[1;33m\u001b[0m\u001b[0m\n\u001b[0m\u001b[0;32m    402\u001b[0m                 \u001b[1;34mf\"is expecting {self.n_features_in_} features as input.\"\u001b[0m\u001b[1;33m\u001b[0m\u001b[1;33m\u001b[0m\u001b[0m\n\u001b[0;32m    403\u001b[0m             )\n",
      "\u001b[1;31mValueError\u001b[0m: X has 3 features, but RandomForestClassifier is expecting 23 features as input."
     ]
    }
   ],
   "source": [
    "Future_Prediction=model.predict([[previous_year_rating_input,length_of_service_input,awards_won_input]])\n",
    "print(\"Future_Prediction={}\".format(Future_Prediction))"
   ]
  },
  {
   "cell_type": "code",
   "execution_count": null,
   "id": "bac0705b",
   "metadata": {},
   "outputs": [],
   "source": [
    "#Save the model"
   ]
  },
  {
   "cell_type": "markdown",
   "id": "53b26131",
   "metadata": {},
   "source": [
    "import pickle\n",
    "filename=\"finalized_model.sav\"\n",
    "pickle.dump(model,open(filename,'wb'))"
   ]
  },
  {
   "cell_type": "markdown",
   "id": "229c0954",
   "metadata": {},
   "source": [
    "loaded_model=pickle.load(open(\"finalized_model.sav\",'rb'))"
   ]
  },
  {
   "cell_type": "markdown",
   "id": "681b569a",
   "metadata": {},
   "source": [
    "result=loaded_model.predict([[3,1,0]])"
   ]
  },
  {
   "cell_type": "markdown",
   "id": "74b9162a",
   "metadata": {},
   "source": [
    "result"
   ]
  },
  {
   "cell_type": "code",
   "execution_count": null,
   "id": "bd779093",
   "metadata": {},
   "outputs": [],
   "source": []
  }
 ],
 "metadata": {
  "kernelspec": {
   "display_name": "Python 3 (ipykernel)",
   "language": "python",
   "name": "python3"
  },
  "language_info": {
   "codemirror_mode": {
    "name": "ipython",
    "version": 3
   },
   "file_extension": ".py",
   "mimetype": "text/x-python",
   "name": "python",
   "nbconvert_exporter": "python",
   "pygments_lexer": "ipython3",
   "version": "3.7.6"
  }
 },
 "nbformat": 4,
 "nbformat_minor": 5
}
